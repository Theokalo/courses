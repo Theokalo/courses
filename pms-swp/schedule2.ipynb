{
 "cells": [
  {
   "cell_type": "markdown",
   "metadata": {
    "deletable": true,
    "editable": true
   },
   "source": [
    "# Από το μοντέλο EAV στους γράφους τριάδων\n",
    "\n",
    "Συνέχεια της προηγούμενης άσκησης. Θα πρέπει να έχετε ήδη έτοιμο το csv με το ωρολόγιο πρόγραμμα σε μορφή EAV (τρεις στήλες, χωρίς επικεφαλίδες).\n",
    "\n",
    "*Δεν το έχετε διαθέσιμο; Πάρτε το [έτοιμο υπόδειγμα](https://gist.github.com/mixstef/30f115f9e344809efe30cd4716aad1bf#file-part6-data-csv) (**αν και είναι προτιμότερο να χρησιμοποιήσετε το δικό σας!**)*\n",
    "\n",
    "## 1. Φορτώστε το csv σε μια λίστα\n",
    "Τώρα πια πρέπει να ξέρετε πώς να το κάνετε. Συμπληρώστε στο επόμενο κελί.\n",
    "\n",
    "*Πρόβλημα; Συμβουλευτείτε [τη λύση](https://gist.github.com/mixstef/30f115f9e344809efe30cd4716aad1bf#file-part3-code-py) από την προηγούμενη άσκηση. **Αποφύγετε το copy-paste!** *"
   ]
  },
  {
   "cell_type": "code",
   "execution_count": 6,
   "metadata": {
    "collapsed": false,
    "deletable": true,
    "editable": true
   },
   "outputs": [],
   "source": [
    "#import csv\n",
    "\n",
    "#eavlist = []\n",
    "\n",
    "\n",
    "# φορτώστε εδώ το csv σας σε μια λίστα        \n",
    "\n",
    "#print(eavlist)"
   ]
  },
  {
   "cell_type": "markdown",
   "metadata": {
    "deletable": true,
    "editable": true
   },
   "source": [
    "## 2. Σημειώστε αναγνωριστικά και απλές τιμές\n",
    "\n",
    "Για να είναι ευκολότερη η μελλοντική επεξεργασία, ας \"επισημειώσουμε\" τι είναι κάθε μέρος των τριάδων:\n",
    "\n",
    "* Αν είναι **ανώνυμος κόμβος** (blank nodes), βάλτε μπροστά από το ονομά του το string `_:`\n",
    "* Αν είναι **απλή τιμή** (literal), βάλτε μπροστά από την τιμή του το `#:`\n",
    "* Σε κάθε άλλη περίπτωση έχετε **οντότητες** (entities), βάλτε ως πρόθεμα το string `@:`\n",
    "\n",
    "**Σημείωση:** *τα προθέματα αυτά είναι **αυθαίρετα**. Θα το διορθώσουμε όμως όταν μάθουμε τα πρότυπα αποθήκευσης τριάδων.*\n",
    "\n",
    "Στην Python μπορείτε να συνενώσετε 2 strings με το `+`:\n",
    "\n",
    "```python\n",
    "a = 'somestring'\n",
    "b = '_:'+a\n",
    "print(b)    # will print '_:somestring'\n",
    "```\n",
    "\n",
    "### Ο στόχος σας\n",
    "\n",
    "Σαρώστε την αρχική λίστα και μετατρέψτε (μέσω Python) σε νέα λίστα, όπου τα μέρη των τριάδων θα έχουν όλα το κατάλληλο πρόθεμα:\n",
    "\n",
    "* Η Ημέρα, Ωρα Έναρξης/Λήξης, Εξάμηνο είναι απλές τιμές (literals)\n",
    "* Το πρώτο μέρος κάθε τριάδας (id Διάλεξης) είναι ανώνυμος κόμβος\n",
    "\n",
    "Συμπληρώστε στο επόμενο κελί."
   ]
  },
  {
   "cell_type": "code",
   "execution_count": 7,
   "metadata": {
    "collapsed": false,
    "deletable": true,
    "editable": true
   },
   "outputs": [],
   "source": [
    "\n",
    "#triples = []\n",
    "#for e,a,v in eavlist:\n",
    "\n",
    "# η μετατροπή σας εδώ\n",
    "\n",
    "\n",
    "#print(triples)"
   ]
  },
  {
   "cell_type": "markdown",
   "metadata": {
    "deletable": true,
    "editable": true
   },
   "source": [
    "## 3. Πόσοι οι κόμβοι του γράφου;\n",
    "\n",
    "Στο θεωρητικό μέρος του μαθήματος είδαμε ότι το σύνολο των τριάδων σχηματίζει έναν γράφο.\n",
    "Βρείτε (μέσω Python πάντα!) πόσους κόμβους θα έχει ο γράφος που σχηματίζεται από το ωρολόγιο πρόγραμμα. Πόσοι κόμβοι είναι ανώνυμοι; απλές τιμές (literals); οντότητες;\n",
    "\n",
    "*Χρησιμοποιήστε την επισημειωμένη λίστα για να βρείτε τα είδη των κόμβων.*\n",
    "\n",
    "*Για να μετρήσετε **μία φορά μόνο** ένα όνομα με πολλαπλές εμφανίσεις μπορείτε να χρησιμοποιήσετε ένα set (σύνολο). Δείτε το παράδειγμα:*\n",
    "\n",
    "```python\n",
    "s = set()\n",
    "s.add('a')\n",
    "s.add('b')\n",
    "s.add('a')\n",
    "print(s)        # will print {'a', 'b'}\n",
    "print(len(s))   # will print 2\n",
    "```\n",
    "\n",
    "*Για να ελέγξετε το πρόθεμα ενός string μπορείτε να χρησιμοποιήσετε τη συνάρτηση `startswith()`. Δείτε το παράδειγμα:*\n",
    "\n",
    "```python\n",
    "a = '#:124'\n",
    "if a.startswith('#:'):\n",
    "    print('yes')         # will print 'yes'\n",
    "```\n",
    "\n",
    "Δώστε τη λύση σας στο επόμενο κελί:"
   ]
  },
  {
   "cell_type": "code",
   "execution_count": 9,
   "metadata": {
    "collapsed": false,
    "deletable": true,
    "editable": true
   },
   "outputs": [],
   "source": [
    "#blanks = set()\n",
    "#entities = set()\n",
    "#literals = 0\n",
    "\n",
    "# μετρήστε εδώ κάθε είδος κόμβων\n",
    "\n",
    "        \n",
    "#print('Entities:{} Blank nodes:{} Literals:{}'.format(len(entities),len(blanks),literals))"
   ]
  },
  {
   "cell_type": "markdown",
   "metadata": {
    "deletable": true,
    "editable": true
   },
   "source": [
    "## 4. Αποθηκεύστε τις νέες τριάδες.\n",
    "\n",
    "Αποθηκεύστε τις επισημειωμένες τριάδες σε νέο csv. Κατεβάστε το νέο csv από τον server.\n",
    "\n",
    "*Πρέπει να ξέρετε πώς θα το κάνετε. [Λίγη βοήθεια;](https://gist.github.com/mixstef/30f115f9e344809efe30cd4716aad1bf#file-part6-code-py)*\n",
    "\n",
    "**Θυμηθείτε:** δεν θέλουμε επικεφαλίδες στο csv αυτό!\n"
   ]
  },
  {
   "cell_type": "code",
   "execution_count": 10,
   "metadata": {
    "collapsed": false,
    "deletable": true,
    "editable": true
   },
   "outputs": [],
   "source": [
    "# αποθηκεύστε το νέο csv εδώ"
   ]
  }
 ],
 "metadata": {
  "kernelspec": {
   "display_name": "Python 3",
   "language": "python",
   "name": "python3"
  },
  "language_info": {
   "codemirror_mode": {
    "name": "ipython",
    "version": 3
   },
   "file_extension": ".py",
   "mimetype": "text/x-python",
   "name": "python",
   "nbconvert_exporter": "python",
   "pygments_lexer": "ipython3",
   "version": "3.5.2"
  }
 },
 "nbformat": 4,
 "nbformat_minor": 0
}
