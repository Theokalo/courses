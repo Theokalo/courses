{
 "cells": [
  {
   "cell_type": "markdown",
   "metadata": {},
   "source": [
    "# Διασκεδάζοντας με bits και μάσκες\n",
    "\n",
    "Στο πρώτο εξάμηνο ενός τμήματος πληροφορικής οι φοιτητές παρακολουθούν 6 μαθήματα (A, B, C, D, E, F). Στο μέσο του εξαμήνου συμπληρώνουν ένα ερωτηματολόγιο για το ποια μαθήματα τους αρέσουν και ποια όχι.\n",
    "\n",
    "Μπορούν οι μάσκες (masks) του [2ου μαθήματος](http://mixstef.github.io/courses/csintro/csintro1617s02.pdf) να βοηθήσουν στον χειρισμό των αποτελεσμάτων; Και βέβαια μπορούν! Διαβάστε στη συνέχεια...\n"
   ]
  },
  {
   "cell_type": "markdown",
   "metadata": {},
   "source": [
    "Έστω ότι έχουμε τις ψήφους τριών φοιτητών, αποθηκευμένες σε έναν πίνακα (array). Κάθε ψήφος έχει 6 bits (ένα ανα μάθημα), με 1 συμβολίζεται το like και με 0 το dislike:\n",
    "\n",
    "*(το πρόθεμα `0b` χρησιμοποιείται για σταθερές σε μορφή δυαδικού αριθμού)*"
   ]
  },
  {
   "cell_type": "code",
   "execution_count": 18,
   "metadata": {
    "collapsed": true
   },
   "outputs": [],
   "source": [
    "votes = [0b010101,0b011011,0b000111]"
   ]
  },
  {
   "cell_type": "markdown",
   "metadata": {},
   "source": [
    "## Μετρώντας likes\n",
    "Ας φτιάξουμε μια συνάρτηση για να μετράμε τα likes ενός μαθήματος. Η συνάρτηση σαρώνει τον πίνακα με τις ψήφους (`votes`) και ελέγχει με τη βοήθεια μιας μάσκας (`mask`) αν το bit του συγκεκριμένου μαθήματος είναι 0 ή 1.\n",
    "\n",
    "### Πώς θα πρέπει να είναι η μάσκα;\n",
    "Πριν κάνουμε τον έλεγχο, θα πρέπει να μηδενίζονται τα bits όλων των άλλων μαθημάτων εκτός από το επιλεγμένο . Η πράξη είναι η **AND** (προγραμματιστικά: **&**) και η μάσκα έχει 1 στη θέση του επιλεγμένου μαθήματος και 0 σε όλες τις άλλες θέσεις."
   ]
  },
  {
   "cell_type": "code",
   "execution_count": 10,
   "metadata": {
    "collapsed": false
   },
   "outputs": [],
   "source": [
    "def course_likes(votes,mask):\n",
    "    cnt = 0\n",
    "    for vote in votes:\n",
    "        if vote & mask: cnt = cnt + 1\n",
    "    return cnt\n"
   ]
  },
  {
   "cell_type": "markdown",
   "metadata": {},
   "source": [
    "Ας δούμε σε πόσους αρέσει το τελευταίο μάθημα (`F`). Η μάσκα είναι `0b000001`:"
   ]
  },
  {
   "cell_type": "code",
   "execution_count": 11,
   "metadata": {
    "collapsed": false,
    "scrolled": true
   },
   "outputs": [
    {
     "data": {
      "text/plain": [
       "3"
      ]
     },
     "execution_count": 11,
     "metadata": {},
     "output_type": "execute_result"
    }
   ],
   "source": [
    "course_likes(votes,0b000001)"
   ]
  },
  {
   "cell_type": "markdown",
   "metadata": {},
   "source": [
    "Ας αποθηκεύσουμε τις μάσκες για κάθε μάθημα σε ένα λεξικό:"
   ]
  },
  {
   "cell_type": "code",
   "execution_count": 12,
   "metadata": {
    "collapsed": true
   },
   "outputs": [],
   "source": [
    "masks = { 'A':0b100000,'B':0b010000,'C':0b001000,\n",
    "          'D':0b000100,'E':0b000010,'F':0b000001}"
   ]
  },
  {
   "cell_type": "markdown",
   "metadata": {},
   "source": [
    "Έτσι μπορούμε να πούμε πιο παραστατικά:"
   ]
  },
  {
   "cell_type": "code",
   "execution_count": 14,
   "metadata": {
    "collapsed": false
   },
   "outputs": [
    {
     "data": {
      "text/plain": [
       "3"
      ]
     },
     "execution_count": 14,
     "metadata": {},
     "output_type": "execute_result"
    }
   ],
   "source": [
    "course_likes(votes,masks['F'])"
   ]
  },
  {
   "cell_type": "markdown",
   "metadata": {},
   "source": [
    "## Εκτύπωση στατιστικών\n",
    "Μπορούμε να φτιάξουμε μια συνάρτηση για την εκτύπωση των likes όλων των μαθημάτων. Χρειαζόμαστε τις ψήφους (πίνακας `votes`) και το λεξικό με τις μάσκες (`masks`):\n",
    "\n",
    "*Σημ: η `masks.items()` επιστρέφει όλα τα ζεύγη `(όνομα μαθήματος,αντίστοιχη μάσκα)` του λεξικού!*"
   ]
  },
  {
   "cell_type": "code",
   "execution_count": 20,
   "metadata": {
    "collapsed": false
   },
   "outputs": [],
   "source": [
    "def print_stats(votes,masks):\n",
    "    for name,mask in masks.items():\n",
    "        print('course {} has {} likes'.format(name,course_likes(votes,mask)))"
   ]
  },
  {
   "cell_type": "markdown",
   "metadata": {},
   "source": [
    "Ας το δοκιμάσουμε τώρα:"
   ]
  },
  {
   "cell_type": "code",
   "execution_count": 21,
   "metadata": {
    "collapsed": false,
    "scrolled": false
   },
   "outputs": [
    {
     "name": "stdout",
     "output_type": "stream",
     "text": [
      "course B has 2 likes\n",
      "course F has 3 likes\n",
      "course E has 2 likes\n",
      "course A has 0 likes\n",
      "course D has 2 likes\n",
      "course C has 1 likes\n"
     ]
    }
   ],
   "source": [
    "print_stats(votes,masks)"
   ]
  },
  {
   "cell_type": "markdown",
   "metadata": {},
   "source": [
    "## Αλλάζοντας γνώμη\n",
    "Αν οι φοιτητές μπορούν να αλλάζουν ψήφο για κάποιο μάθημα, πώς θα το κάνουμε χωρίς να πειράζουμε τα άλλα bits της ψήφου τους; **Οι μάσκες έρχονται για βοήθεια!**\n",
    "\n",
    "### Τώρα μου αρέσει\n",
    "Ένας φοιτητής αποφασίζει εκ των υστέρων ότι του αρέσει ένα μάθημα: το αντίστοιχο bit της ψήφου του πρέπει να γίνει 1. Ποια μάσκα και ποια λογική πράξη θέλουμε;\n",
    "\n",
    "Από τη θεωρία ξέρουμε ότι για να θέσουμε bits σε 1 η πράξη είναι η **OR** (προγραμματιστικά: **|**). Η μάσκα πρέπει να έχει 1 στη θέση που το bit θα γίνει 1 και 0 στα υπόλοιπα. Ακριβώς όπως βρίσκεται στο λεξικό `masks`!\n",
    "\n",
    "Στη συνάρτηση `likes()` που ακολουθεί\n",
    "* `student` είναι ο αριθμός του φοιτητή (η θέση στον πίνακα `votes`, 0 έως 2 στο παράδειγμά μας)\n",
    "* `course` είναι το όνομα του μαθήματος (το κλειδί στο λεξικό `masks`, `'A'` έως `'F'`στο παράδειγμά μας) "
   ]
  },
  {
   "cell_type": "code",
   "execution_count": 24,
   "metadata": {
    "collapsed": false
   },
   "outputs": [],
   "source": [
    "def likes(votes,masks,course,student):\n",
    "    votes[student] = votes[student] | masks[course]"
   ]
  },
  {
   "cell_type": "markdown",
   "metadata": {},
   "source": [
    "Δοκιμή: ο πρώτος φοιτητής (`0`) συμπάθησε το μάθημα `A` που ως τώρα δεν είχε κανένα like:"
   ]
  },
  {
   "cell_type": "code",
   "execution_count": 25,
   "metadata": {
    "collapsed": false
   },
   "outputs": [
    {
     "name": "stdout",
     "output_type": "stream",
     "text": [
      "course B has 2 likes\n",
      "course F has 3 likes\n",
      "course E has 2 likes\n",
      "course A has 1 likes\n",
      "course D has 2 likes\n",
      "course C has 1 likes\n"
     ]
    }
   ],
   "source": [
    "likes(votes,masks,'A',0)\n",
    "print_stats(votes,masks)"
   ]
  },
  {
   "cell_type": "markdown",
   "metadata": {},
   "source": [
    "*Σημ: η δοκιμή μας δείχνει ότι αυξήθηκαν τα `likes` για το μάθημα `A`, αν θέλαμε όμως να κάνουμε πλήρη έλεγχο θα έπρεπε επίσης να βεβαιωθούμε ότι αυτό που άλλαξε είναι η ψήφος του φοιτητή `0`!*"
   ]
  },
  {
   "cell_type": "markdown",
   "metadata": {},
   "source": [
    "## Με τίποτα...\n",
    "Κάποιο μάθημα δεν μας αρέσει με τίποτα. Θέλουμε να αλλάξουμε την ψήφο μας σε 0. Πώς θα γράψουμε την αντίστοιχη συνάρτηση `dislikes()`;\n",
    "\n",
    "Για να θέσουμε κάποιο bit σε 0, η λογική πράξη είναι η **AND**. Η μάσκα έχει 0 στη θέση που επιλέξαμε να μηδενιστεί και ένα σε όλες τις άλλες θέσεις.\n",
    "\n",
    "Χμμ... αυτό δεν είναι ακριβώς ό,τι υπάρχει στο λεξικό `masks` αλλά **το αντίστροφο**! Για παράδειγμα θα θέλαμε το `0b1011111` για το μάθημα `B` ενώ το `masks['B']` ισούται με `0b010000`. Τι κάνουμε;\n",
    "\n",
    "Απλό: χρησιμοποιούμε το `NOT(masks['B'])` (προγραμματιστικά: **~**`masks['B']`).\n",
    "\n"
   ]
  },
  {
   "cell_type": "code",
   "execution_count": 29,
   "metadata": {
    "collapsed": false
   },
   "outputs": [],
   "source": [
    "def dislikes(votes,masks,course,student):\n",
    "    votes[student] = votes[student] & (~masks[course])"
   ]
  },
  {
   "cell_type": "markdown",
   "metadata": {},
   "source": [
    "Ο φοιτητής `2` δεν συμπαθεί πια το μάθημα `D`:"
   ]
  },
  {
   "cell_type": "code",
   "execution_count": 30,
   "metadata": {
    "collapsed": false,
    "scrolled": true
   },
   "outputs": [
    {
     "name": "stdout",
     "output_type": "stream",
     "text": [
      "course B has 2 likes\n",
      "course F has 3 likes\n",
      "course E has 2 likes\n",
      "course A has 1 likes\n",
      "course D has 1 likes\n",
      "course C has 1 likes\n"
     ]
    }
   ],
   "source": [
    "dislikes(votes,masks,'D',2)\n",
    "print_stats(votes,masks)"
   ]
  },
  {
   "cell_type": "markdown",
   "metadata": {},
   "source": [
    "### Από το ένα άκρο στο άλλο\n",
    "Και πώς θα είναι η συνάρτηση `flip_mind()` που θα επιτρέπει σε έναν φοιτητή να αντιστρέψει την ψήφο του για ένα μάθημα;\n",
    "\n",
    "Η λογική πράξη είναι η **XOR** και η μάσκα έχει 1 στα σημεία που θέλουμε αντιστροφή των bits. Απλό!"
   ]
  },
  {
   "cell_type": "code",
   "execution_count": 31,
   "metadata": {
    "collapsed": true
   },
   "outputs": [],
   "source": [
    "def flip_mind(votes,masks,course,student):\n",
    "    votes[student] = votes[student] ^ masks[course]"
   ]
  },
  {
   "cell_type": "code",
   "execution_count": 32,
   "metadata": {
    "collapsed": false,
    "scrolled": true
   },
   "outputs": [
    {
     "name": "stdout",
     "output_type": "stream",
     "text": [
      "course B has 2 likes\n",
      "course F has 3 likes\n",
      "course E has 2 likes\n",
      "course A has 0 likes\n",
      "course D has 1 likes\n",
      "course C has 1 likes\n"
     ]
    }
   ],
   "source": [
    "flip_mind(votes,masks,'A',0)\n",
    "print_stats(votes,masks)"
   ]
  },
  {
   "cell_type": "markdown",
   "metadata": {},
   "source": [
    "Αλλαγή γνώμης ξανά..."
   ]
  },
  {
   "cell_type": "code",
   "execution_count": 33,
   "metadata": {
    "collapsed": false
   },
   "outputs": [
    {
     "name": "stdout",
     "output_type": "stream",
     "text": [
      "course B has 2 likes\n",
      "course F has 3 likes\n",
      "course E has 2 likes\n",
      "course A has 1 likes\n",
      "course D has 1 likes\n",
      "course C has 1 likes\n"
     ]
    }
   ],
   "source": [
    "flip_mind(votes,masks,'A',0)\n",
    "print_stats(votes,masks)"
   ]
  }
 ],
 "metadata": {
  "kernelspec": {
   "display_name": "Python 3",
   "language": "python",
   "name": "python3"
  },
  "language_info": {
   "codemirror_mode": {
    "name": "ipython",
    "version": 3
   },
   "file_extension": ".py",
   "mimetype": "text/x-python",
   "name": "python",
   "nbconvert_exporter": "python",
   "pygments_lexer": "ipython3",
   "version": "3.4.4"
  }
 },
 "nbformat": 4,
 "nbformat_minor": 0
}
