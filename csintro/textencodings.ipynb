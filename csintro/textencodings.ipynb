{
 "cells": [
  {
   "cell_type": "markdown",
   "metadata": {},
   "source": [
    "# Η θεωρία: χαρακτήρες και κωδικοποιήσεις\n",
    "\n",
    "* Η πληροφορία σε μορφή **απλού κειμένου** (plain text) αποτελείται από **χαρακτήρες** (characters).\n",
    "* Οι χαρακτήρες αναπαρίστανται σε κάποιο πρότυπο (όπως το Unicode) μέσω **αριθμών** (code points). Οι αριθμοί αυτοί στο Unicode είναι **μεγαλύτεροι από 1 byte**.\n",
    "* Όταν έρθει η ώρα αποθήκευσης σε αρχείο, οι αριθμοί πρέπει να γίνουν **σειρές από bytes**: η διαδικασία ονομάζεται **κωδικοποίηση**.\n",
    "\n",
    "## Πώς χειρίζονται τους χαρακτήρες οι εφαρμογές\n",
    "1. Μια μοντέρνα εφαρμογή διαβάζει το κείμενο ως bytes από αρχείο\n",
    "2. Το αναπαριστά στη μνήμη ανάλογα με τη γλώσσα προγραμματισμού (**αποκωδικοποίηση**)\n",
    "3. Το επεξεργάζεται \n",
    "4. Στο τέλος το αποθηκεύει ως bytes σε αρχείο (**κωδικοποίηση**)"
   ]
  },
  {
   "cell_type": "markdown",
   "metadata": {},
   "source": [
    "# Κωδικοποίηση UTF-8\n",
    "\n",
    "Η κωδικοποίηση χαρακτήρων Unicode συνήθως γίνεται σήμερα στη μορφή **UTF-8**. Πρόκειται για μορφή με **μεταβλητό αριθμό bytes ανά χαρακτήρα**: η ιδέα είναι να έχετε λίγα bytes για τους περισσότερο χρησιμοποιούμενους χαρακτήρες (δηλ. ascii) και περισσότερα bytes για λιγότερο χρησιμοποιούμενους χαρακτήρες.\n",
    "\n",
    "Η κωδικοποίηση ορίζεται από τον εξής πίνακα:\n",
    "\n",
    "```\n",
    "00...7F \n",
    "0xxxxxxx \n",
    "\n",
    "80...7FF \n",
    "110xxxxx  10xxxxxx \n",
    "\n",
    "800...FFFF \n",
    "1110xxxx  10xxxxxx  10xxxxxx \n",
    "\n",
    "10000...10FFFF \n",
    "11110xxx  10xxxxxx  10xxxxxx  10xxxxxx \n",
    "```\n",
    "*(διαβάστε τον πίνακα ως εξής: \"αν ο αριθμός code point του χαρακτήρα είναι μεταξύ 00 και 7F, η κωδικοποίηση γίνετα με ένα byte στη μορφή 0xxxxxxx\" κλπ. Κάθε x κρατάει ένα bit του code point)*\n",
    "\n",
    "Καθώς το UTF-8 ορίζει ρητά τη σειρά αποθήκευσης, δεν υπάρχουν εδώ προβλήματα **endian-ness**."
   ]
  },
  {
   "cell_type": "markdown",
   "metadata": {},
   "source": [
    "# Δοκιμές στην Python3\n",
    "Οι μοντέρνες γλώσσες προγραμματισμού χειρίζονται την κωδικοποίηση και την αποκωδικοποίηση UTF-8 (κι όχι μόνο αυτήν) για εμάς. Ας δούμε κάποια παραδείγματα στην Python3.\n",
    "\n",
    "Στην Python3 ο κύριος τύπος κειμενικών δεδομένων είναι το **string**: αυτό μπορείτε να το δείτε ως μία ακολουθία χαρακτήρων Unicode. Ας τυπώσουμε το code point κάθε χαρακτήρα στο string `'Άρτα 2'`"
   ]
  },
  {
   "cell_type": "code",
   "execution_count": 11,
   "metadata": {
    "collapsed": false,
    "scrolled": true
   },
   "outputs": [
    {
     "name": "stdout",
     "output_type": "stream",
     "text": [
      "0x386\n",
      "0x3c1\n",
      "0x3c4\n",
      "0x3b1\n",
      "0x20\n",
      "0x32\n"
     ]
    }
   ],
   "source": [
    "s = 'Άρτα 2'\n",
    "\n",
    "for c in s:\n",
    "    print(hex(ord(c)))"
   ]
  },
  {
   "cell_type": "markdown",
   "metadata": {},
   "source": [
    "*Σημ: Η συνάρτηση `ord()` επιστρέφει τον αριθμό code point ενός χαρακτήρα ενώ η `hex()` μετατρέπει τον αριθμό σε δεκαεξαδική μορφή*\n",
    "\n",
    "Ας **κωδικοποιήσουμε** το string `s` κατά UTF-8. Η μεταβλητή `b` που προκύπτει είναι τύπου **bytes**: δείτε τον τυπο αυτό ως ακολουθία bytes (0..255)."
   ]
  },
  {
   "cell_type": "code",
   "execution_count": 12,
   "metadata": {
    "collapsed": false,
    "scrolled": true
   },
   "outputs": [
    {
     "name": "stdout",
     "output_type": "stream",
     "text": [
      "Encoding has 10 bytes\n",
      "0xce\n",
      "0x86\n",
      "0xcf\n",
      "0x81\n",
      "0xcf\n",
      "0x84\n",
      "0xce\n",
      "0xb1\n",
      "0x20\n",
      "0x32\n"
     ]
    }
   ],
   "source": [
    "b = s.encode('utf-8')\n",
    "print('Encoding has {} bytes'.format(len(b)))\n",
    "for value in b:\n",
    "    print(hex(value))"
   ]
  },
  {
   "cell_type": "markdown",
   "metadata": {},
   "source": [
    "Στο προηγούμενο παράδειγμα, η κωδικοποίηση UTF-8 που προκύπτει αποτελείται από 10 bytes: 4x2 για τους τέσσερις ελληνικούς χαρακτήρες και 2 ακόμα για τους ascii χαρακτήρες κενό (space) και  '2'. \n",
    "\n",
    "Μπορούμε να ζητήσουμε και άλλες κωδικοποιήσεις: ας χρησιμοποιήσουμε το παλιό `iso-8859-7` (ελληνικά, 1 byte ανά χαρακτήρα):"
   ]
  },
  {
   "cell_type": "code",
   "execution_count": 13,
   "metadata": {
    "collapsed": false
   },
   "outputs": [
    {
     "name": "stdout",
     "output_type": "stream",
     "text": [
      "Encoding has 6 bytes\n",
      "0xb6\n",
      "0xf1\n",
      "0xf4\n",
      "0xe1\n",
      "0x20\n",
      "0x32\n"
     ]
    }
   ],
   "source": [
    "b = s.encode('iso-8859-7')\n",
    "print('Encoding has {} bytes'.format(len(b)))\n",
    "for value in b:\n",
    "    print(hex(value))"
   ]
  },
  {
   "cell_type": "markdown",
   "metadata": {},
   "source": [
    "Το πρόβλημα με τις κωδικοποιήσεις του ενός byte ανά χαρακτήρα είναι ότι δεν μπορούμε να έχομε πολυγλωσσικά κείμενα.\n",
    "\n",
    "Αν **αποκωδικοποιήσουμε** με λάθος πρότυπο, το αποτέλεσμα θα είναι ευτράπελο: "
   ]
  },
  {
   "cell_type": "code",
   "execution_count": 14,
   "metadata": {
    "collapsed": false,
    "scrolled": true
   },
   "outputs": [
    {
     "name": "stdout",
     "output_type": "stream",
     "text": [
      "¶ñôá 2\n"
     ]
    }
   ],
   "source": [
    "s2 = b.decode('iso-8859-1')\n",
    "print(s2)"
   ]
  },
  {
   "cell_type": "markdown",
   "metadata": {},
   "source": [
    "*Σίγουρα θα έχετε δει κάποια φορά κάτι σαν το προηγούμενο  ;-)*"
   ]
  },
  {
   "cell_type": "markdown",
   "metadata": {},
   "source": [
    "# Παράδειγμα αποκωδικοποίησης\n",
    "Θα θυμάστε την άσκηση που κάναμε στο μάθημα \"στο χέρι\":\n",
    "\n",
    "Έχοντας την κωδικοποιημένη κατά UTF-8 σειρά bytes (σε δεκαεξαδικό): \n",
    "\n",
    "```66 cf 85 72 e5 ad 9a ce ba``` \n",
    "\n",
    "i) Πόσους unicode χαρακτήρες περιέχει η πιο πάνω σειρά bytes;\n",
    "\n",
    "ii) Ποιοι οι unicode χαρακτήρες αυτοί; (σε δεκαεξαδική μορφή)\n",
    "\n",
    "Ας ζητήσουμε από την Python να το κάνει για εμάς!"
   ]
  },
  {
   "cell_type": "code",
   "execution_count": 15,
   "metadata": {
    "collapsed": false,
    "scrolled": true
   },
   "outputs": [
    {
     "name": "stdout",
     "output_type": "stream",
     "text": [
      "f\t0x66\n",
      "υ\t0x3c5\n",
      "r\t0x72\n",
      "孚\t0x5b5a\n",
      "κ\t0x3ba\n"
     ]
    }
   ],
   "source": [
    "b = b'\\x66\\xcf\\x85\\x72\\xe5\\xad\\x9a\\xce\\xba'\n",
    "\n",
    "s = b.decode('utf-8')\n",
    "for c in s:\n",
    "    print('{}\\t{}'.format(c,hex(ord(c))))\n"
   ]
  },
  {
   "cell_type": "markdown",
   "metadata": {},
   "source": [
    "*Σημ: το* \n",
    "```python\n",
    "b'\\x66\\xcf\\x85\\x72\\xe5\\xad\\x9a\\xce\\xba'\n",
    "```\n",
    "*είναι η σύνταξη της Python3 για μια ακολουθία bytes που περιέχει τα 66, cf, 85, 72, e5, ad, 9a, ce, ba*"
   ]
  },
  {
   "cell_type": "markdown",
   "metadata": {},
   "source": [
    "# Γιατί δεν φαίνονται;\n",
    "Σε ένα κείμενο περιέχονται τα μαθηματικά καλλιγραφικά 𝒜ℒ𝒞. Σε κάποιες συσκευές ο πρώτος και ο τελευταίος χαρακτήρας δεν φαίνονται (ίσως δεν τους βλέπετε κι εσείς, ανάλογα με τη συσκευή που χρησιμοποιείτε τώρα!). Γιατί άραγε;\n",
    "\n",
    "Ας δούμε τα code points:"
   ]
  },
  {
   "cell_type": "code",
   "execution_count": 16,
   "metadata": {
    "collapsed": false
   },
   "outputs": [
    {
     "name": "stdout",
     "output_type": "stream",
     "text": [
      "0x1d49c\n",
      "0x2112\n",
      "0x1d49e\n"
     ]
    }
   ],
   "source": [
    "s ='𝒜ℒ𝒞'\n",
    "for c in s:\n",
    "    print(hex(ord(c)))"
   ]
  },
  {
   "cell_type": "markdown",
   "metadata": {},
   "source": [
    "Αχά! Ο πρώτος και ο τελευταίος χαρακτήρας έχουν code points > 0xFFFF!\n",
    "\n",
    "Η περιοχή χαρακτήρων με την μεγαλύτερη υποστήριξη ανήκει στην περιοχή 0...0xFFFF, η οποία ονομάζεται και **BMP (Basic Multilingual Plane)** του Unicode. Αν οι χαρακτήρες είναι έξω από την περιοχή αυτή (όπως ο 0x1d49c και ο 0x1d49e), τότε ίσως εμφανιστούν προβλήματα απεικόνισης..\n",
    "\n",
    "*Σημ: το προηγούμενο πρόβλημα δεν οφείλεται στο code point. Οι σύγχρονες συσκευές και εφαρμογές μπορούν να χειριστούν άνετα οποιονδήποτε unicode χαρακτήρα. Δεν ισχύει όμως το ίδιο με τις διαθέσιμες γραμματοσειρές (fonts)!*"
   ]
  }
 ],
 "metadata": {
  "kernelspec": {
   "display_name": "Python 3",
   "language": "python",
   "name": "python3"
  },
  "language_info": {
   "codemirror_mode": {
    "name": "ipython",
    "version": 3
   },
   "file_extension": ".py",
   "mimetype": "text/x-python",
   "name": "python",
   "nbconvert_exporter": "python",
   "pygments_lexer": "ipython3",
   "version": "3.4.4"
  }
 },
 "nbformat": 4,
 "nbformat_minor": 0
}
