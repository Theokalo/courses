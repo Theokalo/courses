{
 "cells": [
  {
   "cell_type": "markdown",
   "metadata": {},
   "source": [
    "# Εισαγωγή στοιχείων σε λίστα\n",
    "Ας δούμε τη διαφορά στην απόδοση κατά την εισαγωγή στοιχείων στην αρχή και στο τέλος μιας λίστας. Στην Python δημιουργούμε μια λίστα ως εξής:\n",
    "\n",
    "```python\n",
    "l = [1,2,3]\n",
    "l2 = []    # κενή λίστα\n",
    "```\n",
    "και η προσπέλαση ενός στοιχείου είναι κατά τα γνωστά:\n",
    "\n",
    "```python\n",
    "print(l[2])\n",
    "```\n",
    "\n",
    "Η προσθήκη νέου στοιχείου στο τέλος της λίστας είναι *αστραπιαία*:"
   ]
  },
  {
   "cell_type": "code",
   "execution_count": 2,
   "metadata": {
    "collapsed": false
   },
   "outputs": [],
   "source": [
    "l = []\n",
    "for i in range(100000):\n",
    "    l.append(i)"
   ]
  },
  {
   "cell_type": "markdown",
   "metadata": {},
   "source": [
    "Δείτε όμως τι συμβαίνει όταν τα νέα στοιχεία μπαίνουν στην αρχή:"
   ]
  },
  {
   "cell_type": "code",
   "execution_count": 3,
   "metadata": {
    "collapsed": true
   },
   "outputs": [],
   "source": [
    "l = []\n",
    "for i in range(100000):\n",
    "    l.insert(0,i)"
   ]
  },
  {
   "cell_type": "markdown",
   "metadata": {},
   "source": [
    "# Δυαδική αναζήτηση\n",
    "Ας φτιάξουμε μια συνάρτηση για δυαδική αναζήτηση!\n",
    "\n",
    "Αρχικά το `start` δείχνει στο πρώτο στοιχείο του πίνακα και το `end` στο τελευταίο.\n",
    "Στη συνέχεια βρίσκουμε τη μέση `mid` και επαναλαμβάνουμε την αναζήτηση στο κάτω ή στο πάνω μισό του πίνακα, ανάλογα με το αν το ζητούμενο στοιχείο `i` είναι μικρότερο ή μεγαλύτερο από το στοιχείο της μέσης `l[mid]`.\n",
    "\n",
    "Κατά την αναζήτηση, είτε θα πέσουμε πάνω στο ζητούμενο στοιχείο, είτε τα `start` και `end` θα διασταυρωθούν, οπότε το ζητούμενο στοιχείο δεν υπάρχει.   "
   ]
  },
  {
   "cell_type": "code",
   "execution_count": 4,
   "metadata": {
    "collapsed": true
   },
   "outputs": [],
   "source": [
    "def binsearch(l,i):\n",
    "    start = 0\n",
    "    end = len(l)-1\n",
    "    while end>=start:\n",
    "        mid = (start+end)//2\n",
    "        print(start,mid,end)\n",
    "        if l[mid]==i:\n",
    "            return mid\n",
    "        \n",
    "        if l[mid]>i:\n",
    "            end = mid-1\n",
    "        else:     # l[mid]<i\n",
    "            start = mid+1\n",
    "            \n",
    "    # not found\n",
    "    return None\n",
    "\n",
    "    \n",
    "    "
   ]
  },
  {
   "cell_type": "markdown",
   "metadata": {},
   "source": [
    "Ας δοκιμάσουμε να βρούμε ένα στοιχείο που υπάρχει:"
   ]
  },
  {
   "cell_type": "code",
   "execution_count": 16,
   "metadata": {
    "collapsed": false
   },
   "outputs": [
    {
     "name": "stdout",
     "output_type": "stream",
     "text": [
      "0 3 6\n",
      "4 5 6\n",
      "5\n"
     ]
    }
   ],
   "source": [
    "l = [ -2,5,6,8,10,123,555]\n",
    "print(binsearch(l,123))"
   ]
  },
  {
   "cell_type": "markdown",
   "metadata": {},
   "source": [
    "Και ένα στοιχείο που δεν υπάρχει:"
   ]
  },
  {
   "cell_type": "code",
   "execution_count": 6,
   "metadata": {
    "collapsed": false,
    "scrolled": true
   },
   "outputs": [
    {
     "name": "stdout",
     "output_type": "stream",
     "text": [
      "0 3 6\n",
      "4 5 6\n",
      "6 6 6\n",
      "None\n"
     ]
    }
   ],
   "source": [
    "print(binsearch(l,128))"
   ]
  },
  {
   "cell_type": "markdown",
   "metadata": {},
   "source": [
    "# Ταξινόμηση\n",
    "\n",
    "Θα δούμε δύο μεθόδους ταξινόμησης.\n",
    "\n",
    "## Ταξινόμηση παρεμβολής (insertion sort)\n",
    "\n",
    "Στην επόμενη συνάρτηση έχουμε 2 loops:\n",
    "\n",
    "* Στο εξωτερικό loop επιλέγουμε ένα-ένα όλα τα στοιχεία (εκτός από το πρώτο), από αριστερά προς τα δεξιά.\n",
    "\n",
    "* Στο εσωτερικό loop μετακινούμε (με διαδοχικά swap) κάθε επιλεγμένο στοιχείο προς τα αριστερά, έως ότου φτάσει στη σωστή του ταξινομημένη θέση."
   ]
  },
  {
   "cell_type": "code",
   "execution_count": 7,
   "metadata": {
    "collapsed": true
   },
   "outputs": [],
   "source": [
    "def inssort(l):\n",
    "    for i in range(1,len(l)):\n",
    "        j = i\n",
    "        while j>0 and l[j]<l[j-1]:\n",
    "            l[j],l[j-1] = l[j-1],l[j]    # swap\n",
    "            j = j-1\n",
    "        print(l)"
   ]
  },
  {
   "cell_type": "markdown",
   "metadata": {},
   "source": [
    "Ας δοκιμάσουμε το insertion sort με τυχαία λίστα. Η έξοδος δείχνει την κατάσταση της λίστας σε κάθε επανάληψη του **εξωτερικού** loop:"
   ]
  },
  {
   "cell_type": "code",
   "execution_count": 8,
   "metadata": {
    "collapsed": false
   },
   "outputs": [
    {
     "name": "stdout",
     "output_type": "stream",
     "text": [
      "[69, 73, -123, 320, 0, 11, -55, 666, 999, 420]\n",
      "[-123, 69, 73, 320, 0, 11, -55, 666, 999, 420]\n",
      "[-123, 69, 73, 320, 0, 11, -55, 666, 999, 420]\n",
      "[-123, 0, 69, 73, 320, 11, -55, 666, 999, 420]\n",
      "[-123, 0, 11, 69, 73, 320, -55, 666, 999, 420]\n",
      "[-123, -55, 0, 11, 69, 73, 320, 666, 999, 420]\n",
      "[-123, -55, 0, 11, 69, 73, 320, 666, 999, 420]\n",
      "[-123, -55, 0, 11, 69, 73, 320, 666, 999, 420]\n",
      "[-123, -55, 0, 11, 69, 73, 320, 420, 666, 999]\n"
     ]
    }
   ],
   "source": [
    "l = [69,73,-123,320,0,11,-55,666,999,420]\n",
    "inssort(l)"
   ]
  },
  {
   "cell_type": "markdown",
   "metadata": {},
   "source": [
    "## Quicksort\n",
    "Ο \"αστέρας\" της ταξινόμησης. Θα δούμε την αναδρομική (άρα, κομψή) υλοποίηση.\n",
    "\n",
    "Πριν προχωρήσουμε, ας φτιάξουμε μια βοηθητική συνάρτηση, η οποία\n",
    "\n",
    "* Επιλέγει ως pivot το πρώτο στοιχείο της λίστας\n",
    "* Επιστρέφει μια λίστα με όλα τα στοιχεία που είναι μικρότερα από το pivot, το ίδιο το pivot και μια λίστα με τα στοιχεία που είναι μεγαλύτερα από το pivot."
   ]
  },
  {
   "cell_type": "code",
   "execution_count": 9,
   "metadata": {
    "collapsed": true
   },
   "outputs": [],
   "source": [
    "def partition(l):\n",
    "    p,rest = l[0],l[1:]\n",
    "    lower = [x for x in rest if x<=p]\n",
    "    higher = [x for x in rest if x>p]\n",
    "    \n",
    "    return lower,p,higher"
   ]
  },
  {
   "cell_type": "markdown",
   "metadata": {},
   "source": [
    "Ασ δούμε πώς δουλεύει η συνάρτηση `partition` με τυχαίο παράδειγμα:"
   ]
  },
  {
   "cell_type": "code",
   "execution_count": 10,
   "metadata": {
    "collapsed": false,
    "scrolled": true
   },
   "outputs": [
    {
     "name": "stdout",
     "output_type": "stream",
     "text": [
      "[3, 2] 5 [7, 8, 9]\n"
     ]
    }
   ],
   "source": [
    "l = [5,3,7,8,2,9]\n",
    "l,p,h = partition(l)\n",
    "print(l,p,h)"
   ]
  },
  {
   "cell_type": "markdown",
   "metadata": {},
   "source": [
    "Έχοντας την `partition` διαθέσιμη, η υπλοποίηση του quicksort είναι \"παιχνιδάκι\":"
   ]
  },
  {
   "cell_type": "code",
   "execution_count": 11,
   "metadata": {
    "collapsed": true
   },
   "outputs": [],
   "source": [
    "def qsort(l):\n",
    "    if len(l)<=1:\n",
    "        return l\n",
    "    low,p,high = partition(l)\n",
    "    return qsort(low)+[p]+qsort(high)\n"
   ]
  },
  {
   "cell_type": "markdown",
   "metadata": {},
   "source": [
    "Ας τη δοκιμάσουμε:"
   ]
  },
  {
   "cell_type": "code",
   "execution_count": 12,
   "metadata": {
    "collapsed": false,
    "scrolled": true
   },
   "outputs": [
    {
     "name": "stdout",
     "output_type": "stream",
     "text": [
      "[-123, -55, 0, 11, 69, 73, 320, 420, 666, 999]\n"
     ]
    }
   ],
   "source": [
    "l = [69,73,-123,320,0,11,-55,666,999,420]\n",
    "sl = qsort(l)\n",
    "print(sl)"
   ]
  },
  {
   "cell_type": "markdown",
   "metadata": {},
   "source": [
    "**Μισό λεπτό:** τι είναι αυτό το\n",
    "\n",
    "```python\n",
    "return qsort(low)+[p]+qsort(high)\n",
    "```\n",
    "\n",
    "στην quicksort; Γιατί `[p]` κι όχι απλά `p`; **Δεν κατάλαβα τίποτα!**\n",
    "\n",
    "*Εξήγηση:* στην Python μπορούμε να συνενώσουμε λίστες με τον τελεστή `+`. Όταν το κάνουμε αυτό, δεξιά και αριστερά του `+` πρέπει να είναι λίστες κι όχι στοιχεία. Αν θέλουμε να συνενώσουμε τη λίστα `[1,2,3]` με το στοιχείο `7` και μετά με τη λίστα `[4,5,6]`, το `7` πρέπει να δοθεί ως λίστα ενός στοιχείου, δηλ. `[7]` κι όχι σκέτο `7`!"
   ]
  },
  {
   "cell_type": "code",
   "execution_count": 15,
   "metadata": {
    "collapsed": false
   },
   "outputs": [
    {
     "name": "stdout",
     "output_type": "stream",
     "text": [
      "[1, 2, 3, 7, 4, 5, 6]\n"
     ]
    }
   ],
   "source": [
    "l = [1,2,3]\n",
    "p = [7]\n",
    "m = [4,5,6]\n",
    "n = l+p+m\n",
    "print(n)"
   ]
  }
 ],
 "metadata": {
  "kernelspec": {
   "display_name": "Python 3",
   "language": "python",
   "name": "python3"
  },
  "language_info": {
   "codemirror_mode": {
    "name": "ipython",
    "version": 3
   },
   "file_extension": ".py",
   "mimetype": "text/x-python",
   "name": "python",
   "nbconvert_exporter": "python",
   "pygments_lexer": "ipython3",
   "version": "3.4.4"
  }
 },
 "nbformat": 4,
 "nbformat_minor": 0
}
